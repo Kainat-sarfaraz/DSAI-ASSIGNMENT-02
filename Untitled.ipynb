{
 "cells": [
  {
   "cell_type": "markdown",
   "id": "4c93d4a8",
   "metadata": {},
   "source": [
    "# STRING METHOD"
   ]
  },
  {
   "cell_type": "code",
   "execution_count": 64,
   "id": "2b42af7e",
   "metadata": {},
   "outputs": [
    {
     "name": "stdout",
     "output_type": "stream",
     "text": [
      "\n",
      "STUDENT CARD\n",
      "name: Kainat Sarfaraz\n",
      "father name: Sarfaraz Uddin\n",
      "Age: 25\n",
      "Qualification: Biomedical Engineer\n",
      "Course:DSAI BATCH 04\n"
     ]
    }
   ],
   "source": [
    "Name = \"Kainat Sarfaraz\"\n",
    "father_name = \"Sarfaraz Uddin\"\n",
    "age = '25'\n",
    "qualification = \"Biomedical Engineer\" \n",
    "Course = \"DSAI BATCH 04\"\n",
    "Student_Card = \"\"\"\n",
    "STUDENT CARD\n",
    "name: \"\"\"+str(Name)+\"\"\"\n",
    "father name: \"\"\" +str(father_name)+\"\"\"\n",
    "Age: \"\"\"+str(age)+\"\"\"\n",
    "Qualification: \"\"\"+str(qualification)+\"\"\"\n",
    "Course:\"\"\"+str(Course)\n",
    "\n",
    "print(Student_Card)\n",
    "    \n"
   ]
  },
  {
   "cell_type": "markdown",
   "id": "d6e877e4",
   "metadata": {},
   "source": [
    "# INDEXING METHOD"
   ]
  },
  {
   "cell_type": "code",
   "execution_count": 70,
   "id": "13833552",
   "metadata": {},
   "outputs": [
    {
     "name": "stdout",
     "output_type": "stream",
     "text": [
      "\n",
      "STUDENT CARD\n",
      "Name: Kainat Sarfaraz\n",
      "Father Name: Sarfaraz Uddin\n",
      "Age: 25\n",
      "Qualification:Biomedical Engineer\n",
      "Course: DSAI BATCH 04\n"
     ]
    }
   ],
   "source": [
    "Name = \"Kainat Sarfaraz\"\n",
    "father_name = \"Sarfaraz Uddin\"\n",
    "age = '25'\n",
    "qualification = \"Biomedical Engineer\" \n",
    "course = \"DSAI BATCH 04\"\n",
    "Student_Card = \"\"\"\n",
    "STUDENT CARD\n",
    "Name: {0}\n",
    "Father Name: {1}\n",
    "Age: {2}\n",
    "Qualification:{3}\n",
    "Course: {4}\"\"\".format(Name,father_name,age,qualification,course)\n",
    "\n",
    "print(Student_Card)"
   ]
  },
  {
   "cell_type": "markdown",
   "id": "dfef52b6",
   "metadata": {},
   "source": [
    "# IMPORTING OUTSOURCED DATA"
   ]
  },
  {
   "cell_type": "code",
   "execution_count": 27,
   "id": "b9fd1ee6",
   "metadata": {},
   "outputs": [
    {
     "data": {
      "text/html": [
       "<div>\n",
       "<style scoped>\n",
       "    .dataframe tbody tr th:only-of-type {\n",
       "        vertical-align: middle;\n",
       "    }\n",
       "\n",
       "    .dataframe tbody tr th {\n",
       "        vertical-align: top;\n",
       "    }\n",
       "\n",
       "    .dataframe thead th {\n",
       "        text-align: right;\n",
       "    }\n",
       "</style>\n",
       "<table border=\"1\" class=\"dataframe\">\n",
       "  <thead>\n",
       "    <tr style=\"text-align: right;\">\n",
       "      <th></th>\n",
       "      <th>id</th>\n",
       "      <th>name</th>\n",
       "      <th>fname</th>\n",
       "      <th>course</th>\n",
       "    </tr>\n",
       "  </thead>\n",
       "  <tbody>\n",
       "    <tr>\n",
       "      <th>0</th>\n",
       "      <td>1</td>\n",
       "      <td>Ahmed</td>\n",
       "      <td>Hunain</td>\n",
       "      <td>Python3</td>\n",
       "    </tr>\n",
       "    <tr>\n",
       "      <th>1</th>\n",
       "      <td>2</td>\n",
       "      <td>junaid</td>\n",
       "      <td>Iqbal</td>\n",
       "      <td>Python</td>\n",
       "    </tr>\n",
       "    <tr>\n",
       "      <th>2</th>\n",
       "      <td>3</td>\n",
       "      <td>Rashid</td>\n",
       "      <td>Imran</td>\n",
       "      <td>AI</td>\n",
       "    </tr>\n",
       "    <tr>\n",
       "      <th>3</th>\n",
       "      <td>4</td>\n",
       "      <td>Qasim</td>\n",
       "      <td>Yasir</td>\n",
       "      <td>Python</td>\n",
       "    </tr>\n",
       "    <tr>\n",
       "      <th>4</th>\n",
       "      <td>5</td>\n",
       "      <td>Konain</td>\n",
       "      <td>Nusrat</td>\n",
       "      <td>Data Science</td>\n",
       "    </tr>\n",
       "    <tr>\n",
       "      <th>5</th>\n",
       "      <td>6</td>\n",
       "      <td>Yasir</td>\n",
       "      <td>Rashid</td>\n",
       "      <td>Python</td>\n",
       "    </tr>\n",
       "    <tr>\n",
       "      <th>6</th>\n",
       "      <td>7</td>\n",
       "      <td>Jasim</td>\n",
       "      <td>Abid</td>\n",
       "      <td>Python</td>\n",
       "    </tr>\n",
       "  </tbody>\n",
       "</table>\n",
       "</div>"
      ],
      "text/plain": [
       "   id    name   fname        course\n",
       "0   1   Ahmed  Hunain       Python3\n",
       "1   2  junaid   Iqbal        Python\n",
       "2   3  Rashid   Imran            AI\n",
       "3   4   Qasim   Yasir        Python\n",
       "4   5  Konain  Nusrat  Data Science\n",
       "5   6   Yasir  Rashid        Python\n",
       "6   7   Jasim    Abid        Python"
      ]
     },
     "execution_count": 27,
     "metadata": {},
     "output_type": "execute_result"
    }
   ],
   "source": [
    "import pandas as pd\n",
    "import numpy as np\n",
    "df = pd.read_excel(\"data.xlsx\")\n",
    "df.head(7)"
   ]
  },
  {
   "cell_type": "code",
   "execution_count": 55,
   "id": "2ab0bf53",
   "metadata": {},
   "outputs": [
    {
     "name": "stdout",
     "output_type": "stream",
     "text": [
      "\n",
      "    student id = 1\n",
      "    Name: Ahmed\n",
      "    Father Name: Hunain\n",
      "    course: Python3\n",
      "    \n",
      "---------------\n",
      "\n",
      "    student id = 2\n",
      "    Name: junaid\n",
      "    Father Name: Iqbal\n",
      "    course: Python\n",
      "    \n",
      "---------------\n",
      "\n",
      "    student id = 3\n",
      "    Name: Rashid\n",
      "    Father Name: Imran\n",
      "    course: AI\n",
      "    \n",
      "---------------\n",
      "\n",
      "    student id = 4\n",
      "    Name: Qasim\n",
      "    Father Name: Yasir\n",
      "    course: Python\n",
      "    \n",
      "---------------\n",
      "\n",
      "    student id = 5\n",
      "    Name: Konain\n",
      "    Father Name: Nusrat\n",
      "    course: Data Science\n",
      "    \n",
      "---------------\n",
      "\n",
      "    student id = 6\n",
      "    Name: Yasir\n",
      "    Father Name: Rashid\n",
      "    course: Python\n",
      "    \n",
      "---------------\n",
      "\n",
      "    student id = 7\n",
      "    Name: Jasim\n",
      "    Father Name: Abid\n",
      "    course: Python\n",
      "    \n",
      "---------------\n"
     ]
    }
   ],
   "source": [
    "for id,name,fname,course in df.values:\n",
    "    \n",
    "    student_card= f\"\"\"\n",
    "    student id = {id}\n",
    "    Name: {name}\n",
    "    Father Name: {fname}\n",
    "    course: {course}\n",
    "    \"\"\"\n",
    "    \n",
    "    print(student_card)\n",
    "    print('---------------')\n",
    "    "
   ]
  },
  {
   "cell_type": "markdown",
   "id": "bc51502c",
   "metadata": {},
   "source": [
    "# F\" VARIABLE METHOD"
   ]
  },
  {
   "cell_type": "code",
   "execution_count": 72,
   "id": "876043b1",
   "metadata": {},
   "outputs": [
    {
     "name": "stdout",
     "output_type": "stream",
     "text": [
      "\n",
      "STUDENT CARD\n",
      "Name: Kainat Sarfaraz\n",
      "Father Name: Sarfaraz Uddin\n",
      "Age: 25\n",
      "Qualification:Biomedical Engineer\n",
      "Course: DSAI BATCH 04\n"
     ]
    }
   ],
   "source": [
    "Name = \"Kainat Sarfaraz\"\n",
    "father_name = \"Sarfaraz Uddin\"\n",
    "age = '25'\n",
    "qualification = \"Biomedical Engineer\" \n",
    "course = \"DSAI BATCH 04\"\n",
    "Student_Card = f\"\"\"\n",
    "STUDENT CARD\n",
    "Name: {Name}\n",
    "Father Name: {father_name}\n",
    "Age: {age}\n",
    "Qualification:{qualification}\n",
    "Course: {course}\"\"\"\n",
    "\n",
    "print(Student_Card)\n",
    "    "
   ]
  },
  {
   "cell_type": "markdown",
   "id": "c3cef03f",
   "metadata": {},
   "source": [
    "# OLD METHOD OF FORMATTING"
   ]
  },
  {
   "cell_type": "code",
   "execution_count": 76,
   "id": "df3d1a4f",
   "metadata": {},
   "outputs": [
    {
     "name": "stdout",
     "output_type": "stream",
     "text": [
      "\n",
      "STUDENT CARD\n",
      "Name: Kainat Sarfaraz\n",
      "Father Name: Sarfaraz Uddin\n",
      "Age: 25\n",
      "Qualification: Biomedical Engineer\n",
      "Course: DSAI BATCH 04\n"
     ]
    }
   ],
   "source": [
    "Name = \"Kainat Sarfaraz\"\n",
    "father_name = \"Sarfaraz Uddin\"\n",
    "age = 25\n",
    "qualification = \"Biomedical Engineer\" \n",
    "course = \"DSAI BATCH 04\"\n",
    "Student_Card=\"\"\"\n",
    "STUDENT CARD\n",
    "Name: %s\n",
    "Father Name: %s\n",
    "Age: %d\n",
    "Qualification: %s\n",
    "Course: %s\"\"\" %(Name,father_name,age,qualification,course)\n",
    "\n",
    "print(Student_Card)\n",
    "    "
   ]
  },
  {
   "cell_type": "markdown",
   "id": "4514b31b",
   "metadata": {},
   "source": [
    "# COMMANDS OF FORMATTING TEXT"
   ]
  },
  {
   "cell_type": "markdown",
   "id": "8d05f4d5",
   "metadata": {},
   "source": [
    "### first character to uppercase"
   ]
  },
  {
   "cell_type": "code",
   "execution_count": 127,
   "id": "e087ee21",
   "metadata": {},
   "outputs": [
    {
     "name": "stdout",
     "output_type": "stream",
     "text": [
      "Kainat sarfaraz\n"
     ]
    }
   ],
   "source": [
    "a=\"Kainat Sarfaraz\"\n",
    "print(a.capitalize())"
   ]
  },
  {
   "cell_type": "markdown",
   "id": "11c4a7b2",
   "metadata": {},
   "source": [
    "### expand tab size"
   ]
  },
  {
   "cell_type": "code",
   "execution_count": 115,
   "id": "6014a388",
   "metadata": {},
   "outputs": [
    {
     "name": "stdout",
     "output_type": "stream",
     "text": [
      "Name: \t Kainat Sarfaraz\n",
      "Name:                                              Kainat Sarfaraz\n"
     ]
    }
   ],
   "source": [
    "a = \"\"\"Name: \\t Kainat Sarfaraz\"\"\"\n",
    "print(a)\n",
    "print(a.expandtabs(50))"
   ]
  },
  {
   "cell_type": "markdown",
   "id": "2ffa4b48",
   "metadata": {},
   "source": [
    "### translate string"
   ]
  },
  {
   "cell_type": "code",
   "execution_count": 134,
   "id": "d9eae808",
   "metadata": {},
   "outputs": [
    {
     "data": {
      "text/plain": [
       "'Kainat Sarfaraz'"
      ]
     },
     "execution_count": 134,
     "metadata": {},
     "output_type": "execute_result"
    }
   ],
   "source": [
    "a.translate(())"
   ]
  },
  {
   "cell_type": "markdown",
   "id": "a5f01964",
   "metadata": {},
   "source": [
    "### swap the font case"
   ]
  },
  {
   "cell_type": "code",
   "execution_count": 135,
   "id": "e469fa90",
   "metadata": {},
   "outputs": [
    {
     "name": "stdout",
     "output_type": "stream",
     "text": [
      "KAINAT SARFARAZ\n"
     ]
    }
   ],
   "source": [
    "a=\"kainat sarfaraz\"\n",
    "x=a.swapcase()\n",
    "print(x)\n"
   ]
  },
  {
   "cell_type": "markdown",
   "id": "ea2f965e",
   "metadata": {},
   "source": [
    "### text to lower case "
   ]
  },
  {
   "cell_type": "code",
   "execution_count": 136,
   "id": "220ddaa4",
   "metadata": {},
   "outputs": [
    {
     "name": "stdout",
     "output_type": "stream",
     "text": [
      "kainat sarfaraz\n"
     ]
    }
   ],
   "source": [
    "print(a.casefold())"
   ]
  },
  {
   "cell_type": "markdown",
   "id": "2a851760",
   "metadata": {},
   "source": [
    "### text to center"
   ]
  },
  {
   "cell_type": "code",
   "execution_count": 137,
   "id": "95f511c7",
   "metadata": {},
   "outputs": [
    {
     "name": "stdout",
     "output_type": "stream",
     "text": [
      "                 kainat sarfaraz                  \n"
     ]
    }
   ],
   "source": [
    "print(a.center(50))"
   ]
  },
  {
   "cell_type": "markdown",
   "id": "035d353b",
   "metadata": {},
   "source": [
    "### number of time specific value repeats"
   ]
  },
  {
   "cell_type": "code",
   "execution_count": 142,
   "id": "aa4ecea0",
   "metadata": {},
   "outputs": [
    {
     "name": "stdout",
     "output_type": "stream",
     "text": [
      "5\n"
     ]
    }
   ],
   "source": [
    "print(a.count(\"a\"))"
   ]
  },
  {
   "cell_type": "markdown",
   "id": "1d7c5ea5",
   "metadata": {},
   "source": [
    "### encoding"
   ]
  },
  {
   "cell_type": "code",
   "execution_count": 146,
   "id": "b51f0b9f",
   "metadata": {},
   "outputs": [
    {
     "data": {
      "text/plain": [
       "b'kainat sarfaraz'"
      ]
     },
     "execution_count": 146,
     "metadata": {},
     "output_type": "execute_result"
    }
   ],
   "source": [
    "a.encode(\"cp1252\")"
   ]
  },
  {
   "cell_type": "markdown",
   "id": "d2362d59",
   "metadata": {},
   "source": [
    "### true or false statement"
   ]
  },
  {
   "cell_type": "code",
   "execution_count": 147,
   "id": "3b1951e4",
   "metadata": {},
   "outputs": [
    {
     "data": {
      "text/plain": [
       "True"
      ]
     },
     "execution_count": 147,
     "metadata": {},
     "output_type": "execute_result"
    }
   ],
   "source": [
    "a.endswith(\"raz\")"
   ]
  },
  {
   "cell_type": "markdown",
   "id": "fbf81c5d",
   "metadata": {},
   "source": [
    "### find text in string"
   ]
  },
  {
   "cell_type": "code",
   "execution_count": 155,
   "id": "237d44e9",
   "metadata": {},
   "outputs": [
    {
     "data": {
      "text/plain": [
       "1"
      ]
     },
     "execution_count": 155,
     "metadata": {},
     "output_type": "execute_result"
    }
   ],
   "source": [
    "a.find(\"a\")\n",
    "a.index(\"a\")"
   ]
  },
  {
   "cell_type": "markdown",
   "id": "22455d16",
   "metadata": {},
   "source": [
    "### strip function"
   ]
  },
  {
   "cell_type": "code",
   "execution_count": 158,
   "id": "2ae7bfd0",
   "metadata": {},
   "outputs": [
    {
     "name": "stdout",
     "output_type": "stream",
     "text": [
      "             kainat sarfaraz  \n",
      "kainat sarfaraz\n",
      "kainat sarfaraz  \n",
      "             kainat sarfaraz\n"
     ]
    }
   ],
   "source": [
    "a=\"             kainat sarfaraz  \"\n",
    "print(a)\n",
    "print(a.strip())\n",
    "print(a.lstrip())\n",
    "print(a.rstrip())"
   ]
  },
  {
   "cell_type": "markdown",
   "id": "384e6c82",
   "metadata": {},
   "source": [
    "### first letter of each word to uppercase"
   ]
  },
  {
   "cell_type": "code",
   "execution_count": 159,
   "id": "fa5a7c7e",
   "metadata": {},
   "outputs": [
    {
     "name": "stdout",
     "output_type": "stream",
     "text": [
      "             Kainat Sarfaraz  \n"
     ]
    }
   ],
   "source": [
    "print(a.title())"
   ]
  },
  {
   "cell_type": "markdown",
   "id": "45780549",
   "metadata": {},
   "source": [
    "### split lines in the text"
   ]
  },
  {
   "cell_type": "code",
   "execution_count": 163,
   "id": "7dce237b",
   "metadata": {},
   "outputs": [
    {
     "name": "stdout",
     "output_type": "stream",
     "text": [
      "['kainat ', ' sarfaraz']\n"
     ]
    }
   ],
   "source": [
    "a=\"kainat \\n sarfaraz\"\n",
    "print(a.splitlines())"
   ]
  },
  {
   "cell_type": "markdown",
   "id": "7ed5adf5",
   "metadata": {},
   "source": [
    "### justify text"
   ]
  },
  {
   "cell_type": "code",
   "execution_count": 165,
   "id": "5071f204",
   "metadata": {},
   "outputs": [
    {
     "name": "stdout",
     "output_type": "stream",
     "text": [
      "     kainat sarfaraz\n"
     ]
    }
   ],
   "source": [
    "a=\"kainat sarfaraz\"\n",
    "print(a.rjust(20))"
   ]
  },
  {
   "cell_type": "markdown",
   "id": "c96a61e1",
   "metadata": {},
   "source": [
    "### replace any word with another"
   ]
  },
  {
   "cell_type": "code",
   "execution_count": 168,
   "id": "566c5cf2",
   "metadata": {},
   "outputs": [
    {
     "name": "stdout",
     "output_type": "stream",
     "text": [
      "fatima sarfaraz\n"
     ]
    }
   ],
   "source": [
    "print(a.replace(\"kainat\",\"fatima\"))"
   ]
  },
  {
   "cell_type": "markdown",
   "id": "8d537027",
   "metadata": {},
   "source": [
    "### define the nature of string"
   ]
  },
  {
   "cell_type": "code",
   "execution_count": 173,
   "id": "b0c435a6",
   "metadata": {},
   "outputs": [
    {
     "name": "stdout",
     "output_type": "stream",
     "text": [
      "True\n",
      "False\n",
      "True\n",
      "True\n"
     ]
    }
   ],
   "source": [
    "a=\"7089033\"\n",
    "b=\"ff3434\"\n",
    "c=\"kainat\"\n",
    "d=\"kainat246\"\n",
    "print(a.isdigit())\n",
    "print(b.isnumeric())\n",
    "print(c.isalpha())\n",
    "print(d.isalnum())"
   ]
  },
  {
   "cell_type": "code",
   "execution_count": null,
   "id": "bb5806aa",
   "metadata": {},
   "outputs": [],
   "source": []
  }
 ],
 "metadata": {
  "kernelspec": {
   "display_name": "Python 3 (ipykernel)",
   "language": "python",
   "name": "python3"
  },
  "language_info": {
   "codemirror_mode": {
    "name": "ipython",
    "version": 3
   },
   "file_extension": ".py",
   "mimetype": "text/x-python",
   "name": "python",
   "nbconvert_exporter": "python",
   "pygments_lexer": "ipython3",
   "version": "3.9.13"
  }
 },
 "nbformat": 4,
 "nbformat_minor": 5
}
